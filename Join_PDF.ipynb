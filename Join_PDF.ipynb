{
  "nbformat": 4,
  "nbformat_minor": 0,
  "metadata": {
    "colab": {
      "provenance": [],
      "mount_file_id": "1HXT7mSpaN5qOgTVaVxibKNokcH933PAh",
      "authorship_tag": "ABX9TyMvgDckPJB47U81ln1Pu/3B",
      "include_colab_link": true
    },
    "kernelspec": {
      "name": "python3",
      "display_name": "Python 3"
    },
    "language_info": {
      "name": "python"
    }
  },
  "cells": [
    {
      "cell_type": "markdown",
      "metadata": {
        "id": "view-in-github",
        "colab_type": "text"
      },
      "source": [
        "<a href=\"https://colab.research.google.com/github/Edwin1719/JOIN_PDF/blob/main/Join_PDF.ipynb\" target=\"_parent\"><img src=\"https://colab.research.google.com/assets/colab-badge.svg\" alt=\"Open In Colab\"/></a>"
      ]
    },
    {
      "cell_type": "markdown",
      "source": [
        "![texto del vínculo](https://www.datasig.com.co/wp-content/uploads/2023/10/Unor-2-pdfs-con-python.png)"
      ],
      "metadata": {
        "id": "Z4AzDL9f4Zao"
      }
    },
    {
      "cell_type": "code",
      "source": [
        "# Instalacion de recursos para el proyecto\n",
        "!pip install pymupdf -q\n",
        "!pip install pyngrok -q\n",
        "!pip install streamlit -q\n",
        "\n",
        "# Importacion de librerias\n",
        "import os\n",
        "import fitz\n",
        "import streamlit as st\n",
        "from pyngrok import ngrok"
      ],
      "metadata": {
        "id": "A3wYPkNZ4f3R"
      },
      "execution_count": 11,
      "outputs": []
    },
    {
      "cell_type": "code",
      "source": [
        "# Definicion de la funcion de Union de PDFs\n",
        "def unir_pdf(archivos, archivo_salida):\n",
        "    pdf_salida = fitz.open()\n",
        "    for archivo in archivos:\n",
        "        pdf_entrada = fitz.open(stream=archivo.read(), filetype=\"pdf\")\n",
        "        pdf_salida.insert_pdf(pdf_entrada)\n",
        "        pdf_entrada.close()\n",
        "    pdf_salida.save(archivo_salida)\n",
        "\n",
        "# Aplicacion sencilla en Streamlit para unir PDFs\n",
        "st.title(\"Unir archivos PDF\")\n",
        "\n",
        "archivos = st.file_uploader(\"Selecciona los archivos PDF\", type=\"pdf\", accept_multiple_files=True)\n",
        "archivo_salida = st.text_input(\"Nombre del archivo de salida:\", \"archivos_combinados.pdf\")\n",
        "\n",
        "if st.button(\"Unir PDFs\"):\n",
        "    if archivos and archivo_salida:\n",
        "        try:\n",
        "            unir_pdf(archivos, archivo_salida)\n",
        "            st.success(f\"Archivos PDF unidos con éxito en {archivo_salida}\")\n",
        "        except Exception as e:\n",
        "            st.error(f\"Error al unir PDFs: {e}\")\n",
        "    else:\n",
        "        st.warning(\"Por favor, selecciona los archivos PDF y proporciona un nombre para el archivo de salida.\")\n",
        "\n",
        "# Configurar ngrok con tu authtoken\n",
        "!ngrok authtoken \"TU_AUTHTOKEN_DE_NGROK\"  # Reemplaza esto con tu authtoken de ngrok\n",
        "\n",
        "# Ejecutar la aplicación de Streamlit en segundo plano\n",
        "!streamlit run app.py &>/content/logs.txt &\n",
        "\n",
        "# Crear un túnel con ngrok\n",
        "public_url = ngrok.connect(8501)\n",
        "print(f\"Public URL: {public_url}\")"
      ],
      "metadata": {
        "id": "k0uBO5CAYpT7"
      },
      "execution_count": null,
      "outputs": []
    }
  ]
}